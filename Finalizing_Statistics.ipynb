{
 "cells": [
  {
   "cell_type": "code",
   "execution_count": 1,
   "id": "c65be1c0",
   "metadata": {},
   "outputs": [],
   "source": [
    "import scipy.stats as stats"
   ]
  },
  {
   "cell_type": "code",
   "execution_count": 2,
   "id": "1219e68c",
   "metadata": {},
   "outputs": [],
   "source": [
    "import seaborn as sns\n",
    "import pandas as pd\n",
    "import numpy as np\n",
    "dataset = sns.load_dataset('tips')"
   ]
  },
  {
   "cell_type": "code",
   "execution_count": 3,
   "id": "ad496f30",
   "metadata": {},
   "outputs": [
    {
     "data": {
      "text/html": [
       "<div>\n",
       "<style scoped>\n",
       "    .dataframe tbody tr th:only-of-type {\n",
       "        vertical-align: middle;\n",
       "    }\n",
       "\n",
       "    .dataframe tbody tr th {\n",
       "        vertical-align: top;\n",
       "    }\n",
       "\n",
       "    .dataframe thead th {\n",
       "        text-align: right;\n",
       "    }\n",
       "</style>\n",
       "<table border=\"1\" class=\"dataframe\">\n",
       "  <thead>\n",
       "    <tr style=\"text-align: right;\">\n",
       "      <th></th>\n",
       "      <th>total_bill</th>\n",
       "      <th>tip</th>\n",
       "      <th>sex</th>\n",
       "      <th>smoker</th>\n",
       "      <th>day</th>\n",
       "      <th>time</th>\n",
       "      <th>size</th>\n",
       "    </tr>\n",
       "  </thead>\n",
       "  <tbody>\n",
       "    <tr>\n",
       "      <th>0</th>\n",
       "      <td>16.99</td>\n",
       "      <td>1.01</td>\n",
       "      <td>Female</td>\n",
       "      <td>No</td>\n",
       "      <td>Sun</td>\n",
       "      <td>Dinner</td>\n",
       "      <td>2</td>\n",
       "    </tr>\n",
       "    <tr>\n",
       "      <th>1</th>\n",
       "      <td>10.34</td>\n",
       "      <td>1.66</td>\n",
       "      <td>Male</td>\n",
       "      <td>No</td>\n",
       "      <td>Sun</td>\n",
       "      <td>Dinner</td>\n",
       "      <td>3</td>\n",
       "    </tr>\n",
       "    <tr>\n",
       "      <th>2</th>\n",
       "      <td>21.01</td>\n",
       "      <td>3.50</td>\n",
       "      <td>Male</td>\n",
       "      <td>No</td>\n",
       "      <td>Sun</td>\n",
       "      <td>Dinner</td>\n",
       "      <td>3</td>\n",
       "    </tr>\n",
       "    <tr>\n",
       "      <th>3</th>\n",
       "      <td>23.68</td>\n",
       "      <td>3.31</td>\n",
       "      <td>Male</td>\n",
       "      <td>No</td>\n",
       "      <td>Sun</td>\n",
       "      <td>Dinner</td>\n",
       "      <td>2</td>\n",
       "    </tr>\n",
       "    <tr>\n",
       "      <th>4</th>\n",
       "      <td>24.59</td>\n",
       "      <td>3.61</td>\n",
       "      <td>Female</td>\n",
       "      <td>No</td>\n",
       "      <td>Sun</td>\n",
       "      <td>Dinner</td>\n",
       "      <td>4</td>\n",
       "    </tr>\n",
       "  </tbody>\n",
       "</table>\n",
       "</div>"
      ],
      "text/plain": [
       "   total_bill   tip     sex smoker  day    time  size\n",
       "0       16.99  1.01  Female     No  Sun  Dinner     2\n",
       "1       10.34  1.66    Male     No  Sun  Dinner     3\n",
       "2       21.01  3.50    Male     No  Sun  Dinner     3\n",
       "3       23.68  3.31    Male     No  Sun  Dinner     2\n",
       "4       24.59  3.61  Female     No  Sun  Dinner     4"
      ]
     },
     "execution_count": 3,
     "metadata": {},
     "output_type": "execute_result"
    }
   ],
   "source": [
    "dataset.head()"
   ]
  },
  {
   "cell_type": "code",
   "execution_count": 4,
   "id": "95eb82b3",
   "metadata": {},
   "outputs": [
    {
     "name": "stdout",
     "output_type": "stream",
     "text": [
      "smoker  Yes  No\n",
      "sex            \n",
      "Male     60  97\n",
      "Female   33  54\n"
     ]
    }
   ],
   "source": [
    "dataset_table = pd.crosstab(dataset['sex'],dataset['smoker'])\n",
    "print(dataset_table)"
   ]
  },
  {
   "cell_type": "code",
   "execution_count": 5,
   "id": "48d862f6",
   "metadata": {},
   "outputs": [
    {
     "data": {
      "text/plain": [
       "array([[60, 97],\n",
       "       [33, 54]], dtype=int64)"
      ]
     },
     "execution_count": 5,
     "metadata": {},
     "output_type": "execute_result"
    }
   ],
   "source": [
    "dataset_table.values"
   ]
  },
  {
   "cell_type": "code",
   "execution_count": 6,
   "id": "3658e1e2",
   "metadata": {},
   "outputs": [
    {
     "name": "stdout",
     "output_type": "stream",
     "text": [
      "Observed Values:\n",
      " [[60 97]\n",
      " [33 54]]\n"
     ]
    }
   ],
   "source": [
    "#Observed Values\n",
    "observed_values = dataset_table.values\n",
    "print(\"Observed Values:\\n\",observed_values)"
   ]
  },
  {
   "cell_type": "code",
   "execution_count": 7,
   "id": "4d52b808",
   "metadata": {},
   "outputs": [],
   "source": [
    "val = stats.chi2_contingency(dataset_table)"
   ]
  },
  {
   "cell_type": "code",
   "execution_count": 8,
   "id": "85f06420",
   "metadata": {},
   "outputs": [
    {
     "data": {
      "text/plain": [
       "(0.0,\n",
       " 1.0,\n",
       " 1,\n",
       " array([[59.84016393, 97.15983607],\n",
       "        [33.15983607, 53.84016393]]))"
      ]
     },
     "execution_count": 8,
     "metadata": {},
     "output_type": "execute_result"
    }
   ],
   "source": [
    "val"
   ]
  },
  {
   "cell_type": "code",
   "execution_count": 9,
   "id": "be64d24d",
   "metadata": {},
   "outputs": [
    {
     "data": {
      "text/plain": [
       "array([[59.84016393, 97.15983607],\n",
       "       [33.15983607, 53.84016393]])"
      ]
     },
     "execution_count": 9,
     "metadata": {},
     "output_type": "execute_result"
    }
   ],
   "source": [
    "val[3]"
   ]
  },
  {
   "cell_type": "code",
   "execution_count": 10,
   "id": "40142dc7",
   "metadata": {},
   "outputs": [],
   "source": [
    "Expected_values = val[3]"
   ]
  },
  {
   "cell_type": "code",
   "execution_count": 11,
   "id": "c6ea6e18",
   "metadata": {},
   "outputs": [
    {
     "data": {
      "text/plain": [
       "array([[59.84016393, 97.15983607],\n",
       "       [33.15983607, 53.84016393]])"
      ]
     },
     "execution_count": 11,
     "metadata": {},
     "output_type": "execute_result"
    }
   ],
   "source": [
    "Expected_values"
   ]
  },
  {
   "cell_type": "code",
   "execution_count": 12,
   "id": "3f13f719",
   "metadata": {},
   "outputs": [
    {
     "name": "stdout",
     "output_type": "stream",
     "text": [
      "Degree of Freedom: 1\n"
     ]
    }
   ],
   "source": [
    "# Calculate degree of freedom\n",
    "no_of_rows = len(dataset_table.iloc[0:2,0])\n",
    "no_of_columns = len(dataset_table.iloc[0,0:2])\n",
    "dof = (no_of_rows - 1) * (no_of_columns - 1)\n",
    "print(\"Degree of Freedom:\",dof)\n",
    "alpha = 0.05"
   ]
  },
  {
   "cell_type": "code",
   "execution_count": 13,
   "id": "112502e4",
   "metadata": {},
   "outputs": [],
   "source": [
    "#Calculate Chi-square test\n",
    "def cal_chisquare(Observed_values,Expected_values):\n",
    "    observ_list = []\n",
    "    expect_list = []\n",
    "    sum = 0\n",
    "    for i in Observed_values:\n",
    "        for j in i:\n",
    "            observ_list.append(j)\n",
    "            \n",
    "    for i in Expected_values:\n",
    "        for j in i:\n",
    "            expect_list.append(j)\n",
    "            \n",
    "    for i in range(len(observ_list)):\n",
    "        sum = sum + (((observ_list[i] - expect_list[i])**2)/expect_list[i])\n",
    "        \n",
    "    return sum"
   ]
  },
  {
   "cell_type": "code",
   "execution_count": 17,
   "id": "b819b18c",
   "metadata": {},
   "outputs": [
    {
     "name": "stdout",
     "output_type": "stream",
     "text": [
      "Chi-square statistics:- 0.001934818536627623\n"
     ]
    }
   ],
   "source": [
    "chi_square_statistics = cal_chisquare(observed_values,Expected_values)\n",
    "print(\"Chi-square statistics:-\",chi_square_statistics)"
   ]
  },
  {
   "cell_type": "code",
   "execution_count": 15,
   "id": "03262770",
   "metadata": {},
   "outputs": [
    {
     "name": "stdout",
     "output_type": "stream",
     "text": [
      "Critical Value= 3.841458820694124\n"
     ]
    }
   ],
   "source": [
    "# Decision Rule(Getting value from chi-square table)\n",
    "from scipy.stats import chi2\n",
    "\n",
    "critical_value = chi2.ppf(q=1-alpha,df=dof)\n",
    "print(\"Critical Value=\",critical_value)"
   ]
  },
  {
   "cell_type": "code",
   "execution_count": 21,
   "id": "cb7e0433",
   "metadata": {},
   "outputs": [
    {
     "name": "stdout",
     "output_type": "stream",
     "text": [
      "p-value: 0.964915107315732\n",
      "Significance level: 0.05\n",
      "Degree of freedom 1\n"
     ]
    }
   ],
   "source": [
    "#p-value\n",
    "p_value = 1 - chi2.cdf(x=chi_square_statistics,df=dof)\n",
    "print(\"p-value:\",p_value)\n",
    "print(\"Significance level:\",alpha)\n",
    "print(\"Degree of freedom\",dof)"
   ]
  },
  {
   "cell_type": "code",
   "execution_count": 22,
   "id": "fed73c7d",
   "metadata": {},
   "outputs": [
    {
     "name": "stdout",
     "output_type": "stream",
     "text": [
      "Accept Null Hypothesis(H0)\n",
      "Reject Alternate Hepothesis(H1)\n",
      "There is no relationship between 2 categorical variable\n",
      "Accept Null Hypothesis(H0)\n",
      "Reject Alternate Hepothesis(H1)\n",
      "There is no relationship between 2 categorical variable\n"
     ]
    }
   ],
   "source": [
    "#Conclusion\n",
    "if chi_square_statistics >= critical_value:\n",
    "    print(\"Reject Null Hypothesis(H0)\")\n",
    "    print(\"Accepet Alternate Hypothesis(H1)\")\n",
    "    print(\"There is a relationship between 2 categorical variable\")\n",
    "else:\n",
    "    print(\"Accept Null Hypothesis(H0)\")\n",
    "    print(\"Reject Alternate Hepothesis(H1)\")\n",
    "    print(\"There is no relationship between 2 categorical variable\")\n",
    "    \n",
    "\n",
    "if p_value <= alpha:\n",
    "    print(\"Reject Null Hypothesis(H0)\")\n",
    "    print(\"Accepet Alternate Hypothesis(H1)\")\n",
    "    print(\"There is a relationship between 2 categorical variable\")\n",
    "else:\n",
    "    print(\"Accept Null Hypothesis(H0)\")\n",
    "    print(\"Reject Alternate Hepothesis(H1)\")\n",
    "    print(\"There is no relationship between 2 categorical variable\")"
   ]
  },
  {
   "cell_type": "code",
   "execution_count": 4,
   "id": "ef357f8b",
   "metadata": {},
   "outputs": [],
   "source": [
    "import pandas as pd\n",
    "import scipy.stats as stats"
   ]
  },
  {
   "cell_type": "code",
   "execution_count": 2,
   "id": "93d7e694",
   "metadata": {},
   "outputs": [],
   "source": [
    "df = pd.read_csv('medication.csv')"
   ]
  },
  {
   "cell_type": "code",
   "execution_count": 3,
   "id": "b86c19d2",
   "metadata": {},
   "outputs": [
    {
     "data": {
      "text/html": [
       "<div>\n",
       "<style scoped>\n",
       "    .dataframe tbody tr th:only-of-type {\n",
       "        vertical-align: middle;\n",
       "    }\n",
       "\n",
       "    .dataframe tbody tr th {\n",
       "        vertical-align: top;\n",
       "    }\n",
       "\n",
       "    .dataframe thead th {\n",
       "        text-align: right;\n",
       "    }\n",
       "</style>\n",
       "<table border=\"1\" class=\"dataframe\">\n",
       "  <thead>\n",
       "    <tr style=\"text-align: right;\">\n",
       "      <th></th>\n",
       "      <th>0 mg</th>\n",
       "      <th>50 mg</th>\n",
       "      <th>100 mg</th>\n",
       "    </tr>\n",
       "  </thead>\n",
       "  <tbody>\n",
       "    <tr>\n",
       "      <th>0</th>\n",
       "      <td>9</td>\n",
       "      <td>7</td>\n",
       "      <td>4</td>\n",
       "    </tr>\n",
       "    <tr>\n",
       "      <th>1</th>\n",
       "      <td>8</td>\n",
       "      <td>6</td>\n",
       "      <td>3</td>\n",
       "    </tr>\n",
       "    <tr>\n",
       "      <th>2</th>\n",
       "      <td>7</td>\n",
       "      <td>6</td>\n",
       "      <td>2</td>\n",
       "    </tr>\n",
       "    <tr>\n",
       "      <th>3</th>\n",
       "      <td>8</td>\n",
       "      <td>7</td>\n",
       "      <td>3</td>\n",
       "    </tr>\n",
       "    <tr>\n",
       "      <th>4</th>\n",
       "      <td>8</td>\n",
       "      <td>8</td>\n",
       "      <td>4</td>\n",
       "    </tr>\n",
       "    <tr>\n",
       "      <th>5</th>\n",
       "      <td>9</td>\n",
       "      <td>7</td>\n",
       "      <td>3</td>\n",
       "    </tr>\n",
       "    <tr>\n",
       "      <th>6</th>\n",
       "      <td>8</td>\n",
       "      <td>6</td>\n",
       "      <td>2</td>\n",
       "    </tr>\n",
       "  </tbody>\n",
       "</table>\n",
       "</div>"
      ],
      "text/plain": [
       "   0 mg  50 mg  100 mg\n",
       "0     9      7       4\n",
       "1     8      6       3\n",
       "2     7      6       2\n",
       "3     8      7       3\n",
       "4     8      8       4\n",
       "5     9      7       3\n",
       "6     8      6       2"
      ]
     },
     "execution_count": 3,
     "metadata": {},
     "output_type": "execute_result"
    }
   ],
   "source": [
    "df"
   ]
  },
  {
   "cell_type": "code",
   "execution_count": 5,
   "id": "6e2fbfa5",
   "metadata": {},
   "outputs": [],
   "source": [
    "F, p = stats.f_oneway(df['0 mg'], df['50 mg'], df['100 mg'])"
   ]
  },
  {
   "cell_type": "code",
   "execution_count": 6,
   "id": "d2b4f3ed",
   "metadata": {},
   "outputs": [
    {
     "name": "stdout",
     "output_type": "stream",
     "text": [
      "5.956341358737431e-10\n"
     ]
    }
   ],
   "source": [
    "print(p)"
   ]
  },
  {
   "cell_type": "code",
   "execution_count": 8,
   "id": "d96b5ee8",
   "metadata": {},
   "outputs": [
    {
     "name": "stdout",
     "output_type": "stream",
     "text": [
      "Reject Null Hypothesis(H0)\n"
     ]
    }
   ],
   "source": [
    "if p<0.05:\n",
    "    print(\"Reject Null Hypothesis(H0)\")\n",
    "else:\n",
    "    print(\"Accept Null Hypothesis(H0)\")\n",
    "    "
   ]
  },
  {
   "cell_type": "markdown",
   "id": "f40c1ab1",
   "metadata": {},
   "source": [
    "#### Z Test Example"
   ]
  },
  {
   "cell_type": "code",
   "execution_count": 2,
   "id": "62c2e2e9",
   "metadata": {},
   "outputs": [],
   "source": [
    "from statsmodels.stats.weightstats import ztest as ztest\n",
    "\n",
    "data = [88,92,94,94,96,97,97,97,99,99,105,109,109,109,110,112,112,113,114,115]\n",
    "_,p_value = ztest(data,value=110)"
   ]
  },
  {
   "cell_type": "code",
   "execution_count": 4,
   "id": "027434de",
   "metadata": {},
   "outputs": [
    {
     "data": {
      "text/plain": [
       "0.00027212221833431376"
      ]
     },
     "execution_count": 4,
     "metadata": {},
     "output_type": "execute_result"
    }
   ],
   "source": [
    "p_value"
   ]
  },
  {
   "cell_type": "code",
   "execution_count": 3,
   "id": "0d9a7a1f",
   "metadata": {},
   "outputs": [
    {
     "name": "stdout",
     "output_type": "stream",
     "text": [
      "Reject Null hypothesis(H0)\n"
     ]
    }
   ],
   "source": [
    "if p_value<0.05:\n",
    "    print(\"Reject Null hypothesis(H0)\")\n",
    "else:\n",
    "    print(\"Accept Null hypothesis(H0)\")"
   ]
  },
  {
   "cell_type": "code",
   "execution_count": null,
   "id": "71fcc084",
   "metadata": {},
   "outputs": [],
   "source": []
  }
 ],
 "metadata": {
  "kernelspec": {
   "display_name": "Python 3 (ipykernel)",
   "language": "python",
   "name": "python3"
  },
  "language_info": {
   "codemirror_mode": {
    "name": "ipython",
    "version": 3
   },
   "file_extension": ".py",
   "mimetype": "text/x-python",
   "name": "python",
   "nbconvert_exporter": "python",
   "pygments_lexer": "ipython3",
   "version": "3.9.7"
  }
 },
 "nbformat": 4,
 "nbformat_minor": 5
}
